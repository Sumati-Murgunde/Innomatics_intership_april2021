{
  "nbformat": 4,
  "nbformat_minor": 0,
  "metadata": {
    "colab": {
      "name": "Task 4.ipynb",
      "provenance": []
    },
    "kernelspec": {
      "name": "python3",
      "display_name": "Python 3"
    },
    "language_info": {
      "name": "python"
    }
  },
  "cells": [
    {
      "cell_type": "code",
      "metadata": {
        "colab": {
          "base_uri": "https://localhost:8080/"
        },
        "id": "k5i0Dhj7iIBW",
        "outputId": "7b854307-3425-40c2-ac05-cdbdd5571d80"
      },
      "source": [
        "#Q.1.sWAP cASE:\n",
        "def swap_case(s):\n",
        "    Output = '';\n",
        "    for char in s:\n",
        "        if(char.isupper()==True):\n",
        "            Output += (char.lower());\n",
        "        elif(char.islower()==True):\n",
        "            Output += (char.upper());\n",
        "        else:\n",
        "            Output += char;\n",
        "    return Output; \n",
        "\n",
        "if __name__ == '__main__':\n",
        "    s = input()\n",
        "    result = swap_case(s)\n",
        "    print(result)"
      ],
      "execution_count": null,
      "outputs": [
        {
          "output_type": "stream",
          "text": [
            "PYthon.com\n",
            "pyTHON.COM\n"
          ],
          "name": "stdout"
        }
      ]
    },
    {
      "cell_type": "code",
      "metadata": {
        "colab": {
          "base_uri": "https://localhost:8080/"
        },
        "id": "tpBiHf24jlXz",
        "outputId": "a4bef095-5794-45c5-d206-5cc1288ba8cf"
      },
      "source": [
        "#Q.2.String split and Join\n",
        "def split_and_join(line):\n",
        "    # write your code here\n",
        "    a = line.split(\" \") \n",
        "    b= \"-\".join(a)\n",
        "    return b\n",
        "\n",
        "\n",
        "if __name__ == '__main__':\n",
        "    line = input()\n",
        "    result = split_and_join(line)\n",
        "    print(result)"
      ],
      "execution_count": null,
      "outputs": [
        {
          "output_type": "stream",
          "text": [
            "this is python lahuage\n",
            "['this', 'is', 'python', 'lahuage']\n"
          ],
          "name": "stdout"
        }
      ]
    },
    {
      "cell_type": "code",
      "metadata": {
        "colab": {
          "base_uri": "https://localhost:8080/"
        },
        "id": "ZhrwH_AWmJvG",
        "outputId": "fd7edc75-f872-4ac2-97ae-387992b7146c"
      },
      "source": [
        "#Q.3.What's Your name?\n",
        "def print_full_name(first, last):\n",
        "    # Write your code here\n",
        "    last = last+\"!\"\n",
        "    print(\"Hello\",first, last,\"You just delved into python.\");\n",
        "    \n",
        "if __name__ == '__main__':\n",
        "    first_name = input()\n",
        "    last_name = input()\n",
        "   "
      ],
      "execution_count": null,
      "outputs": [
        {
          "output_type": "stream",
          "text": [
            "sumati\n",
            "murgunde\n"
          ],
          "name": "stdout"
        }
      ]
    },
    {
      "cell_type": "code",
      "metadata": {
        "id": "Bak0x0wUn4QR"
      },
      "source": [
        "#Q.4.Mutations\n",
        "def mutate_string(string, position, character):\n",
        "    l = list(string)\n",
        "    l[position] = character\n",
        "    string = ''.join(l)\n",
        "    return string\n",
        "\n",
        "if __name__ == '__main__':\n",
        "    s = input()\n",
        "    i, c = input().split()\n",
        "    s_new = mutate_string(s, int(i), c)\n",
        "    print(s_new)"
      ],
      "execution_count": null,
      "outputs": []
    },
    {
      "cell_type": "code",
      "metadata": {
        "id": "0PuSRMmjpT9h"
      },
      "source": [
        "#Q.5.Find String:\n",
        "def count_substring(string, sub_string):\n",
        "    count = 0\n",
        "    for i in range(len(string)-len(sub_string)+1):\n",
        "        if (string[i:i+len(sub_string)] == sub_string):\n",
        "            count += 1\n",
        "    return count\n",
        "\n",
        "if __name__ == '__main__':\n",
        "    string = input().strip()\n",
        "    sub_string = input().strip()\n",
        "    \n",
        "    count = count_substring(string, sub_string)\n",
        "    print(count)\n",
        "\n",
        "\n"
      ],
      "execution_count": null,
      "outputs": []
    },
    {
      "cell_type": "code",
      "metadata": {
        "id": "lWKPuZDk02Xo"
      },
      "source": [
        "#Q.6.String validation\n",
        "def fun1(s):\n",
        "    for i in range(len(s)):\n",
        "        if(s[i].isalnum()):\n",
        "            return True;\n",
        "            break;\n",
        "    return False;\n",
        "        \n",
        "def fun2(s):\n",
        "    for i in range(len(s)):\n",
        "        if(s[i].isalpha()):\n",
        "            return True;\n",
        "            break;\n",
        "    return False;\n",
        "\n",
        "def fun3(s):\n",
        "    for i in range(len(s)):\n",
        "        if(s[i].isdigit()):\n",
        "            return True;\n",
        "            break;\n",
        "    return False;\n",
        "\n",
        "def fun4(s):\n",
        "    for i in range(len(s)):\n",
        "        if(s[i].islower()):\n",
        "            return True;\n",
        "            break;\n",
        "    return False; \n",
        "     \n",
        "def fun5(s):\n",
        "    for i in range(len(s)):\n",
        "        if(s[i].isupper()):\n",
        "            return True;\n",
        "            break;\n",
        "    return False;\n",
        " \n",
        "if __name__ == '__main__':\n",
        "    s = input()\n",
        "    flagalphanum = fun1(s)\n",
        "    alphabetical = fun2(s)\n",
        "    digits = fun3(s)\n",
        "    lowercase = fun4(s)\n",
        "    uppercase = fun5(s)\n",
        "    print(flagalphanum)\n",
        "    print(alphabetical)\n",
        "    print(digits)\n",
        "    print(lowercase)\n",
        "    print(uppercase)\n"
      ],
      "execution_count": null,
      "outputs": []
    },
    {
      "cell_type": "code",
      "metadata": {
        "id": "REVKQYZhrVVM"
      },
      "source": [
        "#Q.7.Text Alignment\n",
        "#Replace all ______ with rjust, ljust or center. \n",
        "\n",
        "thickness = int(input()) #This must be an odd number\n",
        "c = 'H'\n",
        "\n",
        "#Top Cone\n",
        "for i in range(thickness):\n",
        "    print((c*i).rjust(thickness-1)+c+(c*i).ljust(thickness-1))\n",
        "\n",
        "#Top Pillars\n",
        "for i in range(thickness+1):\n",
        "    print((c*thickness).center(thickness*2)+(c*thickness).center(thickness*6))\n",
        "\n",
        "#Middle Belt\n",
        "for i in range((thickness+1)//2):\n",
        "    print((c*thickness*5).center(thickness*6))    \n",
        "\n",
        "#Bottom Pillars\n",
        "for i in range(thickness+1):\n",
        "    print((c*thickness).center(thickness*2)+(c*thickness).center(thickness*6))    \n",
        "\n",
        "#Bottom Cone\n",
        "for i in range(thickness):\n",
        "    print(((c*(thickness-i-1)).rjust(thickness)+c+(c*(thickness-i-1)).ljust(thickness)).rjust(thickness*6))"
      ],
      "execution_count": null,
      "outputs": []
    },
    {
      "cell_type": "code",
      "metadata": {
        "id": "H_2kOiZP1FpF"
      },
      "source": [
        "#Q.8.Text Wrap\n",
        "import textwrap\n",
        "\n",
        "def wrap(string, max_width):\n",
        "    return textwrap.fill(string,max_width)\n",
        "if __name__ == '__main__':\n",
        "    string, max_width = input(), int(input())\n",
        "    result = wrap(string, max_width)\n",
        "    print(result)"
      ],
      "execution_count": null,
      "outputs": []
    },
    {
      "cell_type": "code",
      "metadata": {
        "id": "1xhIMjOC2EvK"
      },
      "source": [
        "#Q.9.Designer Door Mat\n",
        "# Enter your code here. Read input from STDIN. Print output to STDOUT\n",
        "N, M = map(int, input().split())\n",
        "for i in range(1, N, 2):\n",
        "    print(str('.|.' * i).center(M, '-'))\n",
        "print('WELCOME'.center(M, '-'))\n",
        "for i in range(N-2, -1, -2):\n",
        "    print(str('.|.' * i).center(M, '-'))\n"
      ],
      "execution_count": null,
      "outputs": []
    },
    {
      "cell_type": "code",
      "metadata": {
        "id": "mvGfIbaH2QwO"
      },
      "source": [
        "#Q.10.String Formatting:\n",
        "def print_formatted(number):\n",
        "    # your code goes here\n",
        "    l1 = len(bin(number)[2:])\n",
        "   \n",
        "    for i in range(1,number+1):\n",
        "        print(str(i).rjust(l1,' '),end=\" \")\n",
        "        print(oct(i)[2:].rjust(l1,' '),end=\" \")\n",
        "        print(((hex(i)[2:]).upper()).rjust(l1,' '),end=\" \")\n",
        "        print(bin(i)[2:].rjust(l1,' '),end=\" \")\n",
        "        print(\"\")\n"
      ],
      "execution_count": null,
      "outputs": []
    },
    {
      "cell_type": "code",
      "metadata": {
        "colab": {
          "base_uri": "https://localhost:8080/"
        },
        "id": "8mZdYLqP28gI",
        "outputId": "68d19478-aadd-4b9d-fb7e-d03e56618bfe"
      },
      "source": [
        "#Q.11.Alphabet Rangoli:\n",
        "def print_rangoli(size):\n",
        "    # your code goes here\n",
        "    width  = size*4-3\n",
        "    string = ''\n",
        "\n",
        "    for i in range(1,size+1):\n",
        "        for j in range(0,i):\n",
        "            string += chr(96+size-j)\n",
        "            if len(string) < width :\n",
        "                string += '-'\n",
        "        for k in range(i-1,0,-1):    \n",
        "            string += chr(97+size-k)\n",
        "            if len(string) < width :\n",
        "                string += '-'\n",
        "        print(string.center(width,'-'))\n",
        "        string = ''\n",
        "\n",
        "    for i in range(size-1,0,-1):\n",
        "        string = ''\n",
        "        for j in range(0,i):\n",
        "            string += chr(96+size-j)\n",
        "            if len(string) < width :\n",
        "                string += '-'\n",
        "        for k in range(i-1,0,-1):\n",
        "            string += chr(97+size-k)\n",
        "            if len(string) < width :\n",
        "                string += '-'\n",
        "        print(string.center(width,'-'))\n",
        "\n",
        "\n",
        "if __name__ == '__main__':\n",
        "    n = int(input())\n",
        "    print_rangoli(n)"
      ],
      "execution_count": 9,
      "outputs": [
        {
          "output_type": "stream",
          "text": [
            "5\n",
            "--------e--------\n",
            "------e-d-e------\n",
            "----e-d-c-d-e----\n",
            "--e-d-c-b-c-d-e--\n",
            "e-d-c-b-a-b-c-d-e\n",
            "--e-d-c-b-c-d-e--\n",
            "----e-d-c-d-e----\n",
            "------e-d-e------\n",
            "--------e--------\n"
          ],
          "name": "stdout"
        }
      ]
    },
    {
      "cell_type": "code",
      "metadata": {
        "id": "P82FPjQB43lU"
      },
      "source": [
        "#Q.12.Capitalize:\n",
        "#!/bin/python3\n",
        "\n",
        "import math\n",
        "import os\n",
        "import random\n",
        "import re\n",
        "import sys\n",
        "import math\n",
        "import os\n",
        "import random\n",
        "import re\n",
        "import sys\n",
        "\n",
        "# Complete the solve function below.\n",
        "def solve(s):\n",
        "\n",
        "    # Capitalize in Python - HackerRank Solution START\n",
        "    for i in s.split():\n",
        "        s = s.replace(i,i.capitalize())\n",
        "    return s\n",
        "    # Capitalize in Python - HackerRank Solution END\n",
        "\n",
        "if __name__ == '__main__':\n",
        "    fptr = open(os.environ['OUTPUT_PATH'], 'w')\n",
        "\n",
        "    s = input()\n",
        "\n",
        "    result = solve(s)\n",
        "\n",
        "    fptr.write(result + '\\n')\n",
        "\n",
        "    fptr.close()\n"
      ],
      "execution_count": null,
      "outputs": []
    },
    {
      "cell_type": "code",
      "metadata": {
        "id": "GSAXzMwc5Hzl"
      },
      "source": [
        "#Q.13.The Minion Game:\n",
        "def minion_game(string):\n",
        "    # your code goes here\n",
        "    player1 = 0;\n",
        "    player2 = 0;\n",
        "    str_len = len(string)\n",
        "    for i in range(str_len):\n",
        "        if s[i] in \"AEIOU\":\n",
        "            player1 += (str_len)-i\n",
        "        else :\n",
        "            player2 += (str_len)-i\n",
        "    \n",
        "    if player1 > player2:\n",
        "        print(\"Kevin\", player1)\n",
        "    elif player1 < player2:\n",
        "        print(\"Stuart\",player2)\n",
        "    elif player1 == player2:\n",
        "        print(\"Draw\")\n",
        "    else :\n",
        "        print(\"Draw\")\n",
        "\n",
        "if __name__ == '__main__':\n",
        "    s = input()\n",
        "    minion_game(s)"
      ],
      "execution_count": null,
      "outputs": []
    },
    {
      "cell_type": "code",
      "metadata": {
        "id": "1DitRBb65q72"
      },
      "source": [
        "#Q.14.Merge the tools:\n",
        "from collections import OrderedDict\n",
        "\n",
        "def merge_the_tools(string, k):\n",
        "    # your code goes here\n",
        "    strlen = len(string)\n",
        "    for i in range(0,strlen,k):\n",
        "        print(''.join(OrderedDict.fromkeys(string[i:i + k])))\n",
        "\n",
        "\n",
        "if __name__ == '__main__':\n",
        "    string, k = input(), int(input())\n",
        "    merge_the_tools(string, k)"
      ],
      "execution_count": null,
      "outputs": []
    }
  ]
}